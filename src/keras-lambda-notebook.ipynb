{
 "cells": [
  {
   "cell_type": "markdown",
   "metadata": {},
   "source": [
    "# Building a prediction API using a pre-trained MXNet model"
   ]
  },
  {
   "cell_type": "code",
   "execution_count": 56,
   "metadata": {},
   "outputs": [
    {
     "name": "stdout",
     "output_type": "stream",
     "text": [
      "just exit, we are not in a lambda function"
     ]
    },
    {
     "ename": "SystemExit",
     "evalue": "0",
     "output_type": "error",
     "traceback": [
      "An exception has occurred, use %tb to see the full traceback.\n",
      "\u001b[0;31mSystemExit\u001b[0m\u001b[0;31m:\u001b[0m 0\n"
     ]
    }
   ],
   "source": [
    "'''\n",
    "Sample handler for inference using Keras on AWS Lambda\n",
    "\n",
    "@author: Sunil Mallya\n",
    "'''\n",
    "\n",
    "import os\n",
    "\n",
    "# Check if Lambda Function\n",
    "if os.environ.get('LAMBDA_TASK_ROOT') is None:\n",
    "    print \"just exit, we are not in a lambda function\",\n",
    "    import sys; sys.exit(0)\n",
    "\n",
    "import json\n",
    "import numpy as np\n",
    "import tempfile\n",
    "import time\n",
    "import urllib2\n",
    "\n",
    "from keras.models import Sequential\n",
    "from keras.layers import Dense\n",
    "from PIL import Image\n",
    "\n",
    "# For ImageNet models \n",
    "from keras_squeezenet import SqueezeNet #using this lib to test SqueezeNet\n",
    "from keras.applications.imagenet_utils import preprocess_input, decode_predictions\n",
    "model = SqueezeNet()\n",
    "\n",
    "def download_image(url):\n",
    "\n",
    "    req = urllib2.urlopen(url)\n",
    "    img_file = tempfile.NamedTemporaryFile(delete=True)\n",
    "    img_file.write(req.read())\n",
    "    img_file.flush()\n",
    "    img = Image.open(img_file.name)\n",
    "    img = img.resize((227, 227), Image.ANTIALIAS)\n",
    "    x = np.asarray(img)\n",
    "    x = np.expand_dims(x, axis=0)\n",
    "    return x\n",
    "\n",
    "def lambda_handler(event, context):\n",
    "    \n",
    "    url = ''\n",
    "    try:\n",
    "        # API Gateway GET method\n",
    "        if event['httpMethod'] == 'GET':\n",
    "            url = event['queryStringParameters']['url']\n",
    "        # API Gateway POST method\n",
    "        elif event['httpMethod'] == 'POST':\n",
    "            data = json.loads(event['body'])\n",
    "            url = data['url']\n",
    "    except KeyError:\n",
    "        # direct invocation\n",
    "        url = event['url']\n",
    "    \n",
    "    handler_start_time = time.time()\n",
    "    start_time = time.time()\n",
    "    x = download_image(url)\n",
    "    #requires scipy lib, can't use it since that puts us over 50MB zip limit for Lambda\n",
    "    #x = preprocess_input(x) \n",
    "    preds = model.predict(x)\n",
    "    end_time = time.time()\n",
    "    # [[(u'n02088364', u'beagle', 0.94316888), (u'n04254680', u'soccer_ball', 0.017797621),...]]\n",
    "    pred_lst = decode_predictions(preds)\n",
    "    outputs = []\n",
    "    for _id, lbl, prob in pred_lst[0]:\n",
    "        ele = {}\n",
    "        ele[\"label\"] = lbl\n",
    "        ele[\"prob\"] = str(prob)\n",
    "        outputs.append(ele)\n",
    "        \n",
    "    print('Predicted:', outputs)\n",
    "    h_time = end_time - handler_start_time\n",
    "    p_time = end_time - start_time\n",
    "    print(\"handler:\", h_time ,\"pred time:\", p_time)\n",
    "    #return \"%s,%s\" % (h_time, p_time) \n",
    "    out = {\n",
    "            \"headers\": {\n",
    "                \"content-type\": \"application/json\",\n",
    "                \"Access-Control-Allow-Origin\": \"*\"\n",
    "                },\n",
    "            \"body\": '{\"labels\":\"%s\", \"handler_time\": \"%s\", \"prediction_time\": \"%s\"}' % (json.dumps(outputs), h_time, p_time),  \n",
    "            \"statusCode\": 200\n",
    "          }\n",
    "    return out"
   ]
  },
  {
   "cell_type": "code",
   "execution_count": 57,
   "metadata": {},
   "outputs": [
    {
     "name": "stdout",
     "output_type": "stream",
     "text": [
      "\n"
     ]
    }
   ],
   "source": [
    "# Package code and upload \n",
    "\n",
    "# refer for more info: http://ipython.readthedocs.io/en/stable/interactive/reference.html?highlight=input%20caching\n",
    "\n",
    "content = _ih[-2] # Get the input from the previous cell execution \n",
    "fname = \"lambda_function.py\"\n",
    "\n",
    "with open(fname, 'w') as f:\n",
    "    f.write(content)"
   ]
  },
  {
   "cell_type": "code",
   "execution_count": 58,
   "metadata": {
    "collapsed": true
   },
   "outputs": [],
   "source": [
    "# NOTE: Pre-requisities (AWS CLI) and appropriate config credentials \n",
    "code_zip_name = 'keras_lambda_code.zip'\n",
    "\n",
    "# Create a zip file with all of Keras-TF dependencies (-Fsr : Only sync updated files)\n",
    "!zip -9r -qFSr $code_zip_name * -x *.zip "
   ]
  },
  {
   "cell_type": "code",
   "execution_count": null,
   "metadata": {},
   "outputs": [],
   "source": [
    "# UPDATE CODE - Easy to debug\n",
    "\n",
    "func_name = \"Keras-Lambda-SqueezeNet-LambdaFunction-1RP44Y0PT0O3G\"\n",
    "!aws lambda update-function-code --function-name $func_name --zip-file fileb://$code_zip_name  --region us-west-2"
   ]
  },
  {
   "cell_type": "markdown",
   "metadata": {},
   "source": [
    "# Swagger File"
   ]
  },
  {
   "cell_type": "code",
   "execution_count": 4,
   "metadata": {
    "collapsed": true
   },
   "outputs": [],
   "source": [
    "account_id = 'MY_ACC_ID'\n",
    "region = 'us-west-2'\n",
    "\n",
    "!sed -e 's/<<region>>/$region/g' swagger.yaml.template > swagger.yaml\n",
    "!sed -i -e 's/<<account-id>>/$account_id/g' swagger.yaml"
   ]
  },
  {
   "cell_type": "markdown",
   "metadata": {},
   "source": [
    "# Upload Code and YAML files to S3"
   ]
  },
  {
   "cell_type": "code",
   "execution_count": null,
   "metadata": {},
   "outputs": [],
   "source": [
    "bucket_loc = \"s3://MY_BUCKET/keras-samtest/\" # **NOTE** Make sure bucket is in the same region as region above\n",
    "!aws s3 cp $code_zip_name $bucket_loc\n",
    "!aws s3 cp swagger.yaml $bucket_loc"
   ]
  },
  {
   "cell_type": "markdown",
   "metadata": {},
   "source": [
    "# Template File"
   ]
  },
  {
   "cell_type": "code",
   "execution_count": 6,
   "metadata": {
    "collapsed": true
   },
   "outputs": [],
   "source": [
    "definition_url = bucket_loc + 'swagger.yaml' # swagger file location in s3\n",
    "code_uri = bucket_loc + code_zip_name  # code location in s3\n",
    "definition_url = definition_url.replace(':', '\\:').replace('/', '\\/')\n",
    "code_uri = code_uri.replace(':', '\\:').replace('/', '\\/')\n",
    "\n",
    "!sed -e 's/<<def-uri>>/$definition_url/g' template.yaml.template > template.yaml\n",
    "!sed -i -e 's/<<code-uri>>/$code_uri/g' template.yaml"
   ]
  },
  {
   "cell_type": "markdown",
   "metadata": {},
   "source": [
    "# Deply using SAM "
   ]
  },
  {
   "cell_type": "code",
   "execution_count": 7,
   "metadata": {},
   "outputs": [
    {
     "name": "stdout",
     "output_type": "stream",
     "text": [
      "\r\n",
      "Successfully packaged artifacts and wrote output template to file template-out.yaml.\r\n",
      "Execute the following command to deploy the packaged template\r\n",
      "aws cloudformation deploy --template-file /home/ubuntu/workspace/keras-tf-lambda-working/template-out.yaml --stack-name <YOUR STACK NAME>\r\n"
     ]
    }
   ],
   "source": [
    "!aws cloudformation package \\\n",
    " --template-file template.yaml \\\n",
    " --output-template-file template-out.yaml \\\n",
    " --s3-bucket $bucket_loc"
   ]
  },
  {
   "cell_type": "code",
   "execution_count": 8,
   "metadata": {},
   "outputs": [
    {
     "name": "stdout",
     "output_type": "stream",
     "text": [
      "Waiting for changeset to be created..\n",
      "Waiting for stack create/update to complete\n",
      "Successfully created/updated stack - Keras-Lambda-SqueezeNet\n"
     ]
    }
   ],
   "source": [
    "stack_name = \"Keras-Lambda-SqueezeNet\"\n",
    "\n",
    "!aws cloudformation deploy \\\n",
    "--template-file template-out.yaml \\\n",
    "--stack-name $stack_name \\\n",
    "--capabilities CAPABILITY_IAM \\\n",
    "--region $region"
   ]
  },
  {
   "cell_type": "code",
   "execution_count": null,
   "metadata": {},
   "outputs": [],
   "source": [
    "api_endpoint = !aws cloudformation describe-stacks --stack-name $stack_name --region $region | python -c 'import json,sys;obj=json.load(sys.stdin);print obj[\"Stacks\"][0][\"Outputs\"][0][\"OutputValue\"];'\n",
    "print api_endpoint"
   ]
  },
  {
   "cell_type": "code",
   "execution_count": 61,
   "metadata": {},
   "outputs": [
    {
     "name": "stdout",
     "output_type": "stream",
     "text": [
      "{\"labels\":\"[{\"prob\": \"0.943169\", \"label\": \"beagle\"}, {\"prob\": \"0.0177976\", \"label\": \"soccer_ball\"}, {\"prob\": \"0.0175641\", \"label\": \"Walker_hound\"}, {\"prob\": \"0.00897344\", \"label\": \"Labrador_retriever\"}, {\"prob\": \"0.00510975\", \"label\": \"basset\"}]\", \"handler_time\": \"0.320521116257\", \"prediction_time\": \"0.320521116257\"}"
     ]
    }
   ],
   "source": [
    "import json\n",
    "\n",
    "img_url = 'https://images-na.ssl-images-amazon.com/images/G/01/img15/pet-products/small-tiles/23695_pets_vertical_store_dogs_small_tile_8._CB312176604_.jpg'\n",
    "url = api_endpoint[0]+ \"/predict?url=\" + img_url\n",
    "\n",
    "# Lets curl and test the endpoint\n",
    "!curl $url"
   ]
  }
 ],
 "metadata": {
  "kernelspec": {
   "display_name": "Python 2",
   "language": "python",
   "name": "python2"
  },
  "language_info": {
   "codemirror_mode": {
    "name": "ipython",
    "version": 2
   },
   "file_extension": ".py",
   "mimetype": "text/x-python",
   "name": "python",
   "nbconvert_exporter": "python",
   "pygments_lexer": "ipython2",
   "version": "2.7.12"
  }
 },
 "nbformat": 4,
 "nbformat_minor": 2
}
